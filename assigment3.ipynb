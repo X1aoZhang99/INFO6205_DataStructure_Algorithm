{
 "cells": [
  {
   "cell_type": "code",
   "execution_count": 117,
   "metadata": {},
   "outputs": [],
   "source": [
    "import math\n",
    "import copy\n",
    "import heapq"
   ]
  },
  {
   "attachments": {},
   "cell_type": "markdown",
   "metadata": {},
   "source": [
    "# Q1"
   ]
  },
  {
   "cell_type": "code",
   "execution_count": 118,
   "metadata": {},
   "outputs": [],
   "source": [
    "def findShortestWay(maze, ball, hole):\n",
    "    m, n, q, stopped = len(maze), len(maze[0]), [(0, \"\", ball[0], ball[1])], {(ball[0], ball[1]): [0, \"\"]}\n",
    "    while q:\n",
    "        dist, pattern, x, y = heapq.heappop(q)\n",
    "        if [x, y] == hole:\n",
    "            return pattern\n",
    "        for i, j, p in ((-1, 0, \"u\"), (1, 0, \"d\"), (0, -1, \"l\"), (0, 1, \"r\")):\n",
    "            newX, newY, d = x, y, 0\n",
    "            while 0 <= newX + i < m and 0 <= newY + j < n and maze[newX + i][newY + j] != \"x\":\n",
    "                newX += i\n",
    "                newY += j\n",
    "                d += 1\n",
    "                if [newX, newY] == hole:\n",
    "                    break\n",
    "            if (newX, newY) not in stopped or [dist + d, pattern + p] < stopped[(newX, newY)]:\n",
    "                stopped[(newX, newY)] = [dist + d, pattern + p]\n",
    "                heapq.heappush(q, (dist + d, pattern + p, newX, newY))\n",
    "    return -1"
   ]
  },
  {
   "cell_type": "code",
   "execution_count": 119,
   "metadata": {},
   "outputs": [
    {
     "name": "stdout",
     "output_type": "stream",
     "text": [
      "lul\n"
     ]
    }
   ],
   "source": [
    "maze = [[\"o\", \"o\", \"o\", \"o\", \"o\"],\n",
    "        [\"x\", \"x\", \"o\", \"o\", \"x\"],\n",
    "        [\"o\", \"o\", \"o\", \"o\", \"o\"],\n",
    "        [\"o\", \"x\", \"o\", \"o\", \"x\"],\n",
    "        [\"o\", \"x\", \"o\", \"o\", \"o\"]]\n",
    "ball = [4, 3]\n",
    "hole = [0, 1]\n",
    "pattern = findShortestWay(maze, ball, hole)\n",
    "print(pattern)"
   ]
  },
  {
   "attachments": {},
   "cell_type": "markdown",
   "metadata": {},
   "source": [
    "# Q2"
   ]
  },
  {
   "cell_type": "code",
   "execution_count": 120,
   "metadata": {},
   "outputs": [],
   "source": [
    "def gameOfLife(board):\n",
    "\n",
    "    neighbors = [(1,0), (1,-1), (0,-1), (-1,-1), (-1,0), (-1,1), (0,1), (1,1)]\n",
    "\n",
    "    rows = len(board)\n",
    "    cols = len(board[0])\n",
    "\n",
    "    newBoard = copy.deepcopy(board)\n",
    "\n",
    "    for row in range(rows):\n",
    "        for col in range(cols):\n",
    "\n",
    "            live_neighbors = 0\n",
    "            for neighbor in neighbors:\n",
    "                r = (row + neighbor[0])\n",
    "                c = (col + neighbor[1])\n",
    "                if (r < rows and r >= 0) and (c < cols and c >= 0) and (newBoard[r][c] == 1):\n",
    "                    live_neighbors += 1\n",
    "     \n",
    "            if newBoard[row][col] == 1 and (live_neighbors < 2 or live_neighbors > 3):\n",
    "                board[row][col] = 0\n",
    "            if newBoard[row][col] == 0 and live_neighbors == 3:\n",
    "                board[row][col] = 1\n",
    "    \n",
    "    return board"
   ]
  },
  {
   "cell_type": "code",
   "execution_count": 121,
   "metadata": {},
   "outputs": [
    {
     "name": "stdout",
     "output_type": "stream",
     "text": [
      "[[0, 0, 0], [1, 0, 1], [0, 1, 1], [0, 1, 0]]\n"
     ]
    }
   ],
   "source": [
    "board = [[0, 1, 0], [0, 0, 1], [1, 1, 1], [0, 0, 0]]\n",
    "result = gameOfLife(board)\n",
    "print(result)"
   ]
  },
  {
   "attachments": {},
   "cell_type": "markdown",
   "metadata": {},
   "source": [
    "# Q10"
   ]
  },
  {
   "cell_type": "code",
   "execution_count": 122,
   "metadata": {},
   "outputs": [],
   "source": [
    "def minCostConnectPoints(points):\n",
    "\n",
    "    def manhattanDistance(curr, next):\n",
    "        distance = abs(curr[0] - next[0]) + abs(curr[1] - next[1])\n",
    "        return distance\n",
    "    \n",
    "    n = len(points)\n",
    "    mst_cost = 0\n",
    "    edges_used = 0\n",
    "    \n",
    "    # Track nodes which are visited.\n",
    "    in_mst = [False] * n\n",
    "    \n",
    "    min_dist = [math.inf] * n\n",
    "    min_dist[0] = 0\n",
    "    \n",
    "    while edges_used < n:\n",
    "        curr_min_edge = math.inf\n",
    "        curr_node = -1\n",
    "        \n",
    "        # Pick least weight node which is not in MST.\n",
    "        for node in range(n):\n",
    "            if not in_mst[node] and curr_min_edge > min_dist[node]:\n",
    "                curr_min_edge = min_dist[node]\n",
    "                curr_node = node\n",
    "        \n",
    "        mst_cost += curr_min_edge\n",
    "        edges_used += 1\n",
    "        in_mst[curr_node] = True\n",
    "        \n",
    "        # Update adjacent nodes of current node.\n",
    "        for next_node in range(n):\n",
    "            weight = manhattanDistance(points[curr_node], points[next_node])\n",
    "            if not in_mst[next_node] and min_dist[next_node] > weight:\n",
    "                min_dist[next_node] = weight\n",
    "    \n",
    "    return mst_cost"
   ]
  },
  {
   "cell_type": "code",
   "execution_count": 123,
   "metadata": {},
   "outputs": [
    {
     "name": "stdout",
     "output_type": "stream",
     "text": [
      "20\n"
     ]
    }
   ],
   "source": [
    "points = [[0,0],[2,2],[3,10],[5,2],[7,0]]\n",
    "cost = minCostConnectPoints(points)\n",
    "print(cost)"
   ]
  }
 ],
 "metadata": {
  "kernelspec": {
   "display_name": "Python 3",
   "language": "python",
   "name": "python3"
  },
  "language_info": {
   "codemirror_mode": {
    "name": "ipython",
    "version": 3
   },
   "file_extension": ".py",
   "mimetype": "text/x-python",
   "name": "python",
   "nbconvert_exporter": "python",
   "pygments_lexer": "ipython3",
   "version": "3.8.5"
  },
  "orig_nbformat": 4,
  "vscode": {
   "interpreter": {
    "hash": "aee8b7b246df8f9039afb4144a1f6fd8d2ca17a180786b69acc140d282b71a49"
   }
  }
 },
 "nbformat": 4,
 "nbformat_minor": 2
}
