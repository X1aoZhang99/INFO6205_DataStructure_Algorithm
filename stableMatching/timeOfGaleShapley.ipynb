{
 "cells": [
  {
   "cell_type": "code",
   "execution_count": 1,
   "metadata": {},
   "outputs": [],
   "source": [
    "import time\n",
    "import random\n"
   ]
  },
  {
   "cell_type": "code",
   "execution_count": 2,
   "metadata": {},
   "outputs": [],
   "source": [
    "def basicGaleShapley(menPref, womenPref):\n",
    "    # The set stores unmatched men and the dictionary stores temporary spouse of women\n",
    "    unmatchedMan = set()\n",
    "    spouseOfWoman = dict()\n",
    "    for i in range(len(menPref)):\n",
    "        unmatchedMan.add(i)\n",
    "        spouseOfWoman[i] = None\n",
    "\n",
    "    while unmatchedMan:\n",
    "        # Pop a unmatchedman to propose\n",
    "        proposeMan = unmatchedMan.pop()\n",
    "\n",
    "        # If error happen\n",
    "        if not menPref[proposeMan]:\n",
    "            return dict()\n",
    "\n",
    "        # Prepared to proposed to his top rated woman\n",
    "        proposedWoman = menPref[proposeMan].pop(0)\n",
    "\n",
    "        # She is unmatched\n",
    "        if spouseOfWoman[proposedWoman] is None:\n",
    "            spouseOfWoman[proposedWoman] = proposeMan\n",
    "        # This man is her better choice\n",
    "        elif womenPref[proposedWoman].index(spouseOfWoman[proposedWoman]) > womenPref[proposedWoman].index(proposeMan):\n",
    "            unmatchedMan.add(spouseOfWoman[proposedWoman])\n",
    "            spouseOfWoman[proposedWoman] = proposeMan\n",
    "        # Rejected\n",
    "        else:\n",
    "            unmatchedMan.add(proposeMan)\n",
    "\n",
    "    return spouseOfWoman\n"
   ]
  },
  {
   "cell_type": "code",
   "execution_count": 3,
   "metadata": {},
   "outputs": [],
   "source": [
    "def main(num = 8):\n",
    "\n",
    "    for i in range(12):\n",
    "\n",
    "        # initialize the preferences of men and women, depending on if the user choose the worstcase option\n",
    "        menPref = []\n",
    "        womenPref = []\n",
    "        \n",
    "        for _ in range(num):\n",
    "            arr = [n for n in range(num)]\n",
    "            random.shuffle(arr)\n",
    "            menPref.append(arr)\n",
    "            womenPref.append(arr.copy())\n",
    "        random.shuffle(menPref)\n",
    "        random.shuffle(womenPref)\n",
    "        \n",
    "        timeStart = time.time()\n",
    "        result = basicGaleShapley(menPref, womenPref)\n",
    "        timeEnd = time.time()\n",
    "        print('n = ' , num,'Time used: ', timeEnd - timeStart)\n",
    "        num *= 2"
   ]
  },
  {
   "cell_type": "code",
   "execution_count": 4,
   "metadata": {},
   "outputs": [
    {
     "name": "stdout",
     "output_type": "stream",
     "text": [
      "n =  8 Time used:  0.0\n",
      "n =  16 Time used:  0.0\n",
      "n =  32 Time used:  0.0\n",
      "n =  64 Time used:  0.0\n",
      "n =  128 Time used:  0.0\n",
      "n =  256 Time used:  0.001999378204345703\n",
      "n =  512 Time used:  0.008511543273925781\n",
      "n =  1024 Time used:  0.06091570854187012\n",
      "n =  2048 Time used:  0.34907078742980957\n",
      "n =  4096 Time used:  1.0043246746063232\n",
      "n =  8192 Time used:  4.920004844665527\n",
      "n =  16384 Time used:  56.48889398574829\n"
     ]
    }
   ],
   "source": [
    "main()"
   ]
  }
 ],
 "metadata": {
  "kernelspec": {
   "display_name": "Python 3",
   "language": "python",
   "name": "python3"
  },
  "language_info": {
   "codemirror_mode": {
    "name": "ipython",
    "version": 3
   },
   "file_extension": ".py",
   "mimetype": "text/x-python",
   "name": "python",
   "nbconvert_exporter": "python",
   "pygments_lexer": "ipython3",
   "version": "3.11.0"
  },
  "orig_nbformat": 4,
  "vscode": {
   "interpreter": {
    "hash": "c261aea317cc0286b3b3261fbba9abdec21eaa57589985bb7a274bf54d6cc0a7"
   }
  }
 },
 "nbformat": 4,
 "nbformat_minor": 2
}
