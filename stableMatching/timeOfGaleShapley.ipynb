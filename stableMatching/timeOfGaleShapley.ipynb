{
 "cells": [
  {
   "cell_type": "code",
   "execution_count": 1,
   "metadata": {},
   "outputs": [],
   "source": [
    "import time\n",
    "import random\n"
   ]
  },
  {
   "cell_type": "code",
   "execution_count": 2,
   "metadata": {},
   "outputs": [],
   "source": [
    "def basicGaleShapley(menPref, womenPref):\n",
    "    # The set stores unmatched men and the dictionary stores temporary spouse of women\n",
    "    unmatchedMan = set()\n",
    "    spouseOfWoman = dict()\n",
    "    for i in range(len(menPref)):\n",
    "        unmatchedMan.add(i)\n",
    "        spouseOfWoman[i] = None\n",
    "\n",
    "    while unmatchedMan:\n",
    "        # Pop a unmatchedman to propose\n",
    "        proposeMan = unmatchedMan.pop()\n",
    "\n",
    "        # If error happen\n",
    "        if not menPref[proposeMan]:\n",
    "            return dict()\n",
    "\n",
    "        # Prepared to proposed to his top rated woman\n",
    "        proposedWoman = menPref[proposeMan].pop(0)\n",
    "\n",
    "        # She is unmatched\n",
    "        if spouseOfWoman[proposedWoman] is None:\n",
    "            spouseOfWoman[proposedWoman] = proposeMan\n",
    "        # This man is her better choice\n",
    "        elif womenPref[proposedWoman].index(spouseOfWoman[proposedWoman]) > womenPref[proposedWoman].index(proposeMan):\n",
    "            unmatchedMan.add(spouseOfWoman[proposedWoman])\n",
    "            spouseOfWoman[proposedWoman] = proposeMan\n",
    "        # Rejected\n",
    "        else:\n",
    "            unmatchedMan.add(proposeMan)\n",
    "\n",
    "    return spouseOfWoman\n"
   ]
  },
  {
   "cell_type": "code",
   "execution_count": 3,
   "metadata": {},
   "outputs": [],
   "source": [
    "def main(num = 8):\n",
    "\n",
    "    for i in range(12):\n",
    "\n",
    "        # initialize the preferences of men and women, depending on if the user choose the worstcase option\n",
    "        menPref = []\n",
    "        womenPref = []\n",
    "        \n",
    "        for _ in range(num):\n",
    "            arr = [n for n in range(num)]\n",
    "            random.shuffle(arr)\n",
    "            menPref.append(arr)\n",
    "            womenPref.append(arr.copy())\n",
    "        random.shuffle(menPref)\n",
    "        random.shuffle(womenPref)\n",
    "        \n",
    "        timeStart = time.time()\n",
    "        result = basicGaleShapley(menPref, womenPref)\n",
    "        timeEnd = time.time()\n",
    "        print('n = ' , num,'Time used: ', timeEnd - timeStart)\n",
    "        num *= 2"
   ]
  },
  {
   "cell_type": "code",
   "execution_count": 4,
   "metadata": {},
   "outputs": [
    {
     "name": "stdout",
     "output_type": "stream",
     "text": [
      "n =  8 Time used:  2.09808349609375e-05\n",
      "n =  16 Time used:  0.00011086463928222656\n",
      "n =  32 Time used:  0.00011014938354492188\n",
      "n =  64 Time used:  0.0006821155548095703\n",
      "n =  128 Time used:  0.002117156982421875\n",
      "n =  256 Time used:  0.006078243255615234\n",
      "n =  512 Time used:  0.03703498840332031\n",
      "n =  1024 Time used:  0.12308907508850098\n",
      "n =  2048 Time used:  0.7394282817840576\n",
      "n =  4096 Time used:  2.60473895072937\n",
      "n =  8192 Time used:  12.086597919464111\n"
     ]
    },
    {
     "ename": "KeyboardInterrupt",
     "evalue": "",
     "output_type": "error",
     "traceback": [
      "\u001b[0;31m---------------------------------------------------------------------------\u001b[0m",
      "\u001b[0;31mKeyboardInterrupt\u001b[0m                         Traceback (most recent call last)",
      "Cell \u001b[0;32mIn[4], line 1\u001b[0m\n\u001b[0;32m----> 1\u001b[0m main()\n",
      "Cell \u001b[0;32mIn[3], line 18\u001b[0m, in \u001b[0;36mmain\u001b[0;34m(num)\u001b[0m\n\u001b[1;32m     15\u001b[0m random\u001b[39m.\u001b[39mshuffle(womenPref)\n\u001b[1;32m     17\u001b[0m timeStart \u001b[39m=\u001b[39m time\u001b[39m.\u001b[39mtime()\n\u001b[0;32m---> 18\u001b[0m result \u001b[39m=\u001b[39m basicGaleShapley(menPref, womenPref)\n\u001b[1;32m     19\u001b[0m timeEnd \u001b[39m=\u001b[39m time\u001b[39m.\u001b[39mtime()\n\u001b[1;32m     20\u001b[0m \u001b[39mprint\u001b[39m(\u001b[39m'\u001b[39m\u001b[39mn = \u001b[39m\u001b[39m'\u001b[39m , num,\u001b[39m'\u001b[39m\u001b[39mTime used: \u001b[39m\u001b[39m'\u001b[39m, timeEnd \u001b[39m-\u001b[39m timeStart)\n",
      "Cell \u001b[0;32mIn[2], line 24\u001b[0m, in \u001b[0;36mbasicGaleShapley\u001b[0;34m(menPref, womenPref)\u001b[0m\n\u001b[1;32m     22\u001b[0m     spouseOfWoman[proposedWoman] \u001b[39m=\u001b[39m proposeMan\n\u001b[1;32m     23\u001b[0m \u001b[39m# This man is her better choice\u001b[39;00m\n\u001b[0;32m---> 24\u001b[0m \u001b[39melif\u001b[39;00m womenPref[proposedWoman]\u001b[39m.\u001b[39;49mindex(spouseOfWoman[proposedWoman]) \u001b[39m>\u001b[39m womenPref[proposedWoman]\u001b[39m.\u001b[39mindex(proposeMan):\n\u001b[1;32m     25\u001b[0m     unmatchedMan\u001b[39m.\u001b[39madd(spouseOfWoman[proposedWoman])\n\u001b[1;32m     26\u001b[0m     spouseOfWoman[proposedWoman] \u001b[39m=\u001b[39m proposeMan\n",
      "\u001b[0;31mKeyboardInterrupt\u001b[0m: "
     ]
    }
   ],
   "source": [
    "main()"
   ]
  }
 ],
 "metadata": {
  "kernelspec": {
   "display_name": "Python 3",
   "language": "python",
   "name": "python3"
  },
  "language_info": {
   "codemirror_mode": {
    "name": "ipython",
    "version": 3
   },
   "file_extension": ".py",
   "mimetype": "text/x-python",
   "name": "python",
   "nbconvert_exporter": "python",
   "pygments_lexer": "ipython3",
   "version": "3.8.5"
  },
  "orig_nbformat": 4,
  "vscode": {
   "interpreter": {
    "hash": "aee8b7b246df8f9039afb4144a1f6fd8d2ca17a180786b69acc140d282b71a49"
   }
  }
 },
 "nbformat": 4,
 "nbformat_minor": 2
}
