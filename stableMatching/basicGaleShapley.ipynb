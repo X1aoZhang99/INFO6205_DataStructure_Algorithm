{
 "cells": [
  {
   "cell_type": "code",
   "execution_count": 35,
   "metadata": {},
   "outputs": [],
   "source": [
    "import random"
   ]
  },
  {
   "cell_type": "code",
   "execution_count": 36,
   "metadata": {},
   "outputs": [],
   "source": [
    "def basicGaleShapley(menPref, womenPref):\n",
    "    # The set stores unmatched men and the dictionary stores temporary spouse of women\n",
    "    unmatchedMan = set()\n",
    "    spouseOfWoman = dict()\n",
    "    for i in range(len(menPref)):\n",
    "        unmatchedMan.add(i)\n",
    "        spouseOfWoman[i] = None\n",
    "\n",
    "    while unmatchedMan:\n",
    "        # Pop a unmatchedman to propose\n",
    "        proposeMan = unmatchedMan.pop()\n",
    "\n",
    "        # If error happen\n",
    "        if not menPref[proposeMan]:\n",
    "            return dict()\n",
    "\n",
    "        # Prepared to proposed to his top rated woman\n",
    "        proposedWoman = menPref[proposeMan].pop(0)\n",
    "\n",
    "        # She is unmatched\n",
    "        if spouseOfWoman[proposedWoman] is None:\n",
    "            spouseOfWoman[proposedWoman] = proposeMan\n",
    "        # This man is her better choice\n",
    "        elif womenPref[proposedWoman].index(spouseOfWoman[proposedWoman]) > womenPref[proposedWoman].index(proposeMan):\n",
    "            unmatchedMan.add(spouseOfWoman[proposedWoman])\n",
    "            spouseOfWoman[proposedWoman] = proposeMan\n",
    "        # Rejected\n",
    "        else:\n",
    "            unmatchedMan.add(proposeMan)\n",
    "\n",
    "    return spouseOfWoman"
   ]
  },
  {
   "cell_type": "code",
   "execution_count": 37,
   "metadata": {},
   "outputs": [],
   "source": [
    "def main(num=8):\n",
    "    num = 8\n",
    "\n",
    "    # initialize the preferences of men and women, depending on if the user choose the worstcase option\n",
    "    worstCase = False\n",
    "\n",
    "    if worstCase:\n",
    "        menPref = [\n",
    "            [0,1,2,3,4],\n",
    "            [1,2,3,0,4],\n",
    "            [2,3,0,1,4],\n",
    "            [3,0,1,2,4],\n",
    "            [0,1,2,3,4]\n",
    "        ]\n",
    "        womenPref = [\n",
    "            [1,2,3,4,0],\n",
    "            [2,3,4,0,1],\n",
    "            [3,4,0,1,2],\n",
    "            [4,0,1,2,3],\n",
    "            [0,1,2,3,4]\n",
    "        ]\n",
    "        num = 5\n",
    "    else:\n",
    "        menPref = []\n",
    "        womenPref = []\n",
    "        \n",
    "        for _ in range(num):\n",
    "            arr = [n for n in range(num)]\n",
    "            random.shuffle(arr)\n",
    "            menPref.append(arr)\n",
    "            womenPref.append(arr.copy())\n",
    "        random.shuffle(menPref)\n",
    "        random.shuffle(womenPref)\n",
    "    \n",
    "\n",
    "    result = basicGaleShapley(menPref, womenPref)\n",
    "    for key, value in result.items():\n",
    "        print('man {key} is matched with woman {value}'.format(key=key, value=value))"
   ]
  },
  {
   "cell_type": "code",
   "execution_count": 38,
   "metadata": {},
   "outputs": [
    {
     "name": "stdout",
     "output_type": "stream",
     "text": [
      "man 0 is matched with woman 2\n",
      "man 1 is matched with woman 4\n",
      "man 2 is matched with woman 3\n",
      "man 3 is matched with woman 7\n",
      "man 4 is matched with woman 1\n",
      "man 5 is matched with woman 5\n",
      "man 6 is matched with woman 6\n",
      "man 7 is matched with woman 0\n"
     ]
    }
   ],
   "source": [
    "main()"
   ]
  }
 ],
 "metadata": {
  "kernelspec": {
   "display_name": "Python 3",
   "language": "python",
   "name": "python3"
  },
  "language_info": {
   "codemirror_mode": {
    "name": "ipython",
    "version": 3
   },
   "file_extension": ".py",
   "mimetype": "text/x-python",
   "name": "python",
   "nbconvert_exporter": "python",
   "pygments_lexer": "ipython3",
   "version": "3.8.5"
  },
  "orig_nbformat": 4,
  "vscode": {
   "interpreter": {
    "hash": "aee8b7b246df8f9039afb4144a1f6fd8d2ca17a180786b69acc140d282b71a49"
   }
  }
 },
 "nbformat": 4,
 "nbformat_minor": 2
}
