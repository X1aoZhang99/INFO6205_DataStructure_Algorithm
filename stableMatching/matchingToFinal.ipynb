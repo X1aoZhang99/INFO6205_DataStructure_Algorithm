{
 "cells": [
  {
   "cell_type": "code",
   "execution_count": 18,
   "metadata": {},
   "outputs": [],
   "source": [
    "import random\n",
    "import copy"
   ]
  },
  {
   "cell_type": "code",
   "execution_count": 19,
   "metadata": {},
   "outputs": [],
   "source": [
    "def basicGaleShapley(menPref, womenPref):\n",
    "    # The set stores unmatched men and the dictionary stores temporary spouse of women\n",
    "    unmatchedMan = set()\n",
    "    spouseOfWoman = dict()\n",
    "    \n",
    "    for key in menPref.keys():\n",
    "        unmatchedMan.add(key)\n",
    "\n",
    "    for key in womenPref.keys():\n",
    "        spouseOfWoman[key] = None\n",
    "\n",
    "    while unmatchedMan:\n",
    "        # Pop a unmatchedman to propose\n",
    "        proposeMan = unmatchedMan.pop()\n",
    "\n",
    "        # If error happen\n",
    "        if not menPref[proposeMan]:\n",
    "            return dict()\n",
    "\n",
    "        # Prepared to proposed to his top rated woman\n",
    "        proposedWoman = menPref[proposeMan].pop(0)\n",
    "\n",
    "        # She is unmatched\n",
    "        if spouseOfWoman[proposedWoman] is None:\n",
    "            spouseOfWoman[proposedWoman] = proposeMan\n",
    "        # This man is her better choice\n",
    "        elif womenPref[proposedWoman].index(spouseOfWoman[proposedWoman]) > womenPref[proposedWoman].index(proposeMan):\n",
    "            unmatchedMan.add(spouseOfWoman[proposedWoman])\n",
    "            spouseOfWoman[proposedWoman] = proposeMan\n",
    "        # Rejected\n",
    "        else:\n",
    "            unmatchedMan.add(proposeMan)\n",
    "\n",
    "    return spouseOfWoman"
   ]
  },
  {
   "cell_type": "code",
   "execution_count": 20,
   "metadata": {},
   "outputs": [],
   "source": [
    "def main(num = 8):\n",
    "\n",
    "    # initialize the preferences of men and women\n",
    "\n",
    "    menPrefList = []\n",
    "    womenPrefList = []\n",
    "    menPref = dict()\n",
    "    womenPref = dict()\n",
    "    \n",
    "    for _ in range(num):\n",
    "        arr1 = [n for n in range(num)]\n",
    "        arr2 = [n for n in range(num, 2 * num)]\n",
    "        random.shuffle(arr1)\n",
    "        random.shuffle(arr2)\n",
    "        menPrefList.append(arr2)\n",
    "        womenPrefList.append(arr1)\n",
    "    random.shuffle(menPrefList)\n",
    "    random.shuffle(womenPrefList)\n",
    "    \n",
    "    for i in range(num):\n",
    "        manPref = menPrefList.pop()\n",
    "        womanPref = womenPrefList.pop()\n",
    "        menPref[i] = manPref\n",
    "        womenPref[i + num] = womanPref\n",
    "    \n",
    "    result = basicGaleShapley(menPref, womenPref)\n",
    "    for key, value in result.items():\n",
    "        print('team {key} is compete with team {value}'.format(key=key, value=value))\n",
    "    print('Round end\\n')\n",
    "\n",
    "    while True:\n",
    "        winners = []\n",
    "        for key, value in result.items():\n",
    "            randomNum = random.randint(0, 1)\n",
    "            if randomNum:\n",
    "                winners.append(key)\n",
    "            else:\n",
    "                winners.append(value)\n",
    "        if len(winners) == 1:\n",
    "            break\n",
    "        newMenList = winners[len(winners)//2:]\n",
    "        newWomenList = winners[:len(winners)//2]\n",
    "        newMenPref = dict()\n",
    "        newWomenPref = dict()\n",
    "        for man in newMenList:\n",
    "            newMenPref[man] = newWomenList.copy()\n",
    "            random.shuffle(newWomenList)\n",
    "        for woman in newWomenList:\n",
    "            newWomenPref[woman] = newMenList.copy()\n",
    "            random.shuffle(newMenList)\n",
    "        result = basicGaleShapley(newMenPref, newWomenPref)\n",
    "        for key, value in result.items():\n",
    "            print('team {key} is compete with team {value}'.format(key=key, value=value))\n",
    "        print('Round end\\n')\n",
    "    print('winner is', winners[0])\n"
   ]
  },
  {
   "cell_type": "code",
   "execution_count": 21,
   "metadata": {},
   "outputs": [
    {
     "name": "stdout",
     "output_type": "stream",
     "text": [
      "team 8 is compete with team 2\n",
      "team 9 is compete with team 1\n",
      "team 10 is compete with team 0\n",
      "team 11 is compete with team 6\n",
      "team 12 is compete with team 5\n",
      "team 13 is compete with team 7\n",
      "team 14 is compete with team 3\n",
      "team 15 is compete with team 4\n",
      "Round end\n",
      "\n",
      "team 9 is compete with team 14\n",
      "team 11 is compete with team 7\n",
      "team 8 is compete with team 5\n",
      "team 0 is compete with team 4\n",
      "Round end\n",
      "\n",
      "team 7 is compete with team 0\n",
      "team 14 is compete with team 8\n",
      "Round end\n",
      "\n",
      "team 0 is compete with team 14\n",
      "Round end\n",
      "\n",
      "winner is 0\n"
     ]
    }
   ],
   "source": [
    "main()"
   ]
  }
 ],
 "metadata": {
  "kernelspec": {
   "display_name": "Python 3",
   "language": "python",
   "name": "python3"
  },
  "language_info": {
   "codemirror_mode": {
    "name": "ipython",
    "version": 3
   },
   "file_extension": ".py",
   "mimetype": "text/x-python",
   "name": "python",
   "nbconvert_exporter": "python",
   "pygments_lexer": "ipython3",
   "version": "3.8.5"
  },
  "orig_nbformat": 4,
  "vscode": {
   "interpreter": {
    "hash": "aee8b7b246df8f9039afb4144a1f6fd8d2ca17a180786b69acc140d282b71a49"
   }
  }
 },
 "nbformat": 4,
 "nbformat_minor": 2
}
