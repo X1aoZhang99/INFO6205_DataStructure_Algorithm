{
 "cells": [
  {
   "cell_type": "code",
   "execution_count": 1,
   "metadata": {},
   "outputs": [],
   "source": [
    "import random\n",
    "import copy"
   ]
  },
  {
   "cell_type": "code",
   "execution_count": 2,
   "metadata": {},
   "outputs": [],
   "source": [
    "def basicGaleShapley(menPref, womenPref):\n",
    "    # The set stores unmatched men and the dictionary stores temporary spouse of women\n",
    "    unmatchedMan = set()\n",
    "    spouseOfWoman = dict()\n",
    "    for i in range(len(menPref)):\n",
    "        unmatchedMan.add(i)\n",
    "        spouseOfWoman[i] = None\n",
    "\n",
    "    while unmatchedMan:\n",
    "        # Pop a unmatchedman to propose\n",
    "        proposeMan = unmatchedMan.pop()\n",
    "\n",
    "        # If error happen\n",
    "        if not menPref[proposeMan]:\n",
    "            return dict()\n",
    "\n",
    "        # Prepared to proposed to his top rated woman\n",
    "        proposedWoman = menPref[proposeMan].pop(0)\n",
    "\n",
    "        # She is unmatched\n",
    "        if spouseOfWoman[proposedWoman] is None:\n",
    "            spouseOfWoman[proposedWoman] = proposeMan\n",
    "        # This man is her better choice\n",
    "        elif womenPref[proposedWoman].index(spouseOfWoman[proposedWoman]) > womenPref[proposedWoman].index(proposeMan):\n",
    "            unmatchedMan.add(spouseOfWoman[proposedWoman])\n",
    "            spouseOfWoman[proposedWoman] = proposeMan\n",
    "        # Rejected\n",
    "        else:\n",
    "            unmatchedMan.add(proposeMan)\n",
    "\n",
    "    return spouseOfWoman"
   ]
  },
  {
   "cell_type": "code",
   "execution_count": 3,
   "metadata": {},
   "outputs": [],
   "source": [
    "def main(num = 8):\n",
    "    worstCase = False\n",
    "\n",
    "    # initialize the preferences of men and women, depending on if the user choose the worstcase option\n",
    "    if worstCase:\n",
    "        menPref = [\n",
    "            [0,1,2,3,4],\n",
    "            [1,2,3,0,4],\n",
    "            [2,3,0,1,4],\n",
    "            [3,0,1,2,4],\n",
    "            [0,1,2,3,4]\n",
    "        ]\n",
    "        womenPref = [\n",
    "            [1,2,3,4,0],\n",
    "            [2,3,4,0,1],\n",
    "            [3,4,0,1,2],\n",
    "            [4,0,1,2,3],\n",
    "            [0,1,2,3,4]\n",
    "        ]\n",
    "        num = 5\n",
    "    else:\n",
    "        menPref = []\n",
    "        womenPref = []\n",
    "        \n",
    "        for _ in range(num):\n",
    "            arr = [n for n in range(num)]\n",
    "            random.shuffle(arr)\n",
    "            menPref.append(arr)\n",
    "            womenPref.append(arr.copy())\n",
    "        random.shuffle(menPref)\n",
    "        random.shuffle(womenPref)\n",
    "    \n",
    "    unstable = 0\n",
    "    stable = 0\n",
    "    for i in range(1000):\n",
    "        # Deep copy to make sure changes in basicGaleShapley does not affect menPref in main\n",
    "        result = basicGaleShapley(copy.deepcopy(menPref), womenPref)\n",
    "\n",
    "        if result is dict():\n",
    "            unstable += 1\n",
    "        else:\n",
    "            stable += 1\n",
    "        \n",
    "        for i in range(num):\n",
    "            random.shuffle(menPref[i])\n",
    "            random.shuffle(womenPref[i])\n",
    "        \n",
    "    print('The algorithm run {times} times'.format(times=1000))\n",
    "    print('Percentage of stable matching is: {percentage:.2f}%'.format(percentage=float(stable/1000)*100))"
   ]
  },
  {
   "cell_type": "code",
   "execution_count": 4,
   "metadata": {},
   "outputs": [
    {
     "name": "stdout",
     "output_type": "stream",
     "text": [
      "The algorithm run 1000 times\n",
      "Percentage of stable matching is: 100.00%\n"
     ]
    }
   ],
   "source": [
    "main(8)"
   ]
  }
 ],
 "metadata": {
  "kernelspec": {
   "display_name": "Python 3",
   "language": "python",
   "name": "python3"
  },
  "language_info": {
   "codemirror_mode": {
    "name": "ipython",
    "version": 3
   },
   "file_extension": ".py",
   "mimetype": "text/x-python",
   "name": "python",
   "nbconvert_exporter": "python",
   "pygments_lexer": "ipython3",
   "version": "3.8.5"
  },
  "orig_nbformat": 4,
  "vscode": {
   "interpreter": {
    "hash": "aee8b7b246df8f9039afb4144a1f6fd8d2ca17a180786b69acc140d282b71a49"
   }
  }
 },
 "nbformat": 4,
 "nbformat_minor": 2
}
