{
 "cells": [
  {
   "cell_type": "code",
   "execution_count": 5,
   "metadata": {},
   "outputs": [],
   "source": [
    "A = [1,2,3,4,2,2,2,2,8]\n",
    "T = [1,2,2,2,2,2,2,2,8]"
   ]
  },
  {
   "cell_type": "code",
   "execution_count": 6,
   "metadata": {},
   "outputs": [],
   "source": [
    "def find_index(T, n):\n",
    "    if n == 1:\n",
    "        if T[0] == 0:\n",
    "            return 0\n",
    "        else:\n",
    "            return -1\n",
    "    m = n // 2\n",
    "    if T[m] < m:\n",
    "        index = find_index(T[m+1:], n - m - 1)\n",
    "        if index == -1:\n",
    "            return -1\n",
    "        else:\n",
    "            return index + m + 1\n",
    "    elif T[m] > m:\n",
    "        return find_index(T[:m], m)\n",
    "    else:\n",
    "        return m\n"
   ]
  },
  {
   "cell_type": "code",
   "execution_count": 7,
   "metadata": {},
   "outputs": [],
   "source": [
    "def find_index_recursive(A, l, r):\n",
    "    if l <= r:\n",
    "        m = (l + r) // 2\n",
    "        if A[m] == m:\n",
    "            return m\n",
    "        elif A[m] < m:\n",
    "            return find_index_recursive(A, m + 1, r)\n",
    "        else:\n",
    "            return find_index_recursive(A, l, m - 1)\n",
    "    else:\n",
    "        return -1\n"
   ]
  },
  {
   "cell_type": "code",
   "execution_count": 8,
   "metadata": {},
   "outputs": [
    {
     "name": "stdout",
     "output_type": "stream",
     "text": [
      "7\n"
     ]
    }
   ],
   "source": [
    "print(find_index(T, len(A)))"
   ]
  }
 ],
 "metadata": {
  "kernelspec": {
   "display_name": "Python 3",
   "language": "python",
   "name": "python3"
  },
  "language_info": {
   "codemirror_mode": {
    "name": "ipython",
    "version": 3
   },
   "file_extension": ".py",
   "mimetype": "text/x-python",
   "name": "python",
   "nbconvert_exporter": "python",
   "pygments_lexer": "ipython3",
   "version": "3.11.0"
  },
  "orig_nbformat": 4,
  "vscode": {
   "interpreter": {
    "hash": "c261aea317cc0286b3b3261fbba9abdec21eaa57589985bb7a274bf54d6cc0a7"
   }
  }
 },
 "nbformat": 4,
 "nbformat_minor": 2
}
