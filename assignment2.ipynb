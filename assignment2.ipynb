{
 "cells": [
  {
   "attachments": {},
   "cell_type": "markdown",
   "metadata": {},
   "source": [
    "# Q1 Code"
   ]
  },
  {
   "cell_type": "code",
   "execution_count": 49,
   "metadata": {},
   "outputs": [],
   "source": [
    "def binary_search(arr, target):\n",
    "    low = 0\n",
    "    high = len(arr) - 1\n",
    "    while low <= high:\n",
    "        mid = (low + high) // 2\n",
    "        if arr[mid] == target:\n",
    "            return mid\n",
    "        elif arr[mid] < target:\n",
    "            low = mid + 1\n",
    "        else:\n",
    "            high = mid - 1\n",
    "    return -1"
   ]
  },
  {
   "attachments": {},
   "cell_type": "markdown",
   "metadata": {},
   "source": [
    "# Q2 Code"
   ]
  },
  {
   "cell_type": "code",
   "execution_count": 50,
   "metadata": {},
   "outputs": [],
   "source": [
    "def kruskal(graph):\n",
    "    edges = [(graph[u][v], u, v) for u in graph for v in graph[u]]\n",
    "    edges.sort()\n",
    "    parent = {u: u for u in graph}\n",
    "    def find(u):\n",
    "        if parent[u] != u:\n",
    "            parent[u] = find(parent[u])\n",
    "        return parent[u]\n",
    "    mst = []\n",
    "    for edge in edges:\n",
    "        weight, u, v = edge\n",
    "        if find(u) != find(v):\n",
    "            mst.append(edge)\n",
    "            parent[find(u)] = find(v)\n",
    "    return mst"
   ]
  },
  {
   "attachments": {},
   "cell_type": "markdown",
   "metadata": {},
   "source": [
    "# Q6 Code  \n",
    "## a"
   ]
  },
  {
   "cell_type": "code",
   "execution_count": 51,
   "metadata": {},
   "outputs": [],
   "source": [
    "def search_a(T, low, high):\n",
    "    if low > high:\n",
    "        return -1\n",
    "    mid = (low + high) // 2\n",
    "    if T[mid] == mid:\n",
    "        return mid\n",
    "    if T[mid] > mid:\n",
    "        return search_a(T, low, mid - 1)\n",
    "    return search_a(T, mid + 1, high)"
   ]
  },
  {
   "attachments": {},
   "cell_type": "markdown",
   "metadata": {},
   "source": [
    "## b"
   ]
  },
  {
   "cell_type": "code",
   "execution_count": 52,
   "metadata": {},
   "outputs": [],
   "source": [
    "def search_b(A):\n",
    "    if A[1] == 1:\n",
    "        return 1\n",
    "    else:\n",
    "        return -1"
   ]
  },
  {
   "attachments": {},
   "cell_type": "markdown",
   "metadata": {},
   "source": [
    "# Q7 Code"
   ]
  },
  {
   "cell_type": "code",
   "execution_count": 53,
   "metadata": {},
   "outputs": [],
   "source": [
    "def place_base_stations_greedy(houses, west_endpoint):\n",
    "    houses = sorted(houses) # sort houses by location from west to east\n",
    "    base_stations = [] \n",
    "    i = 0 \n",
    "\n",
    "    while i < len(houses):\n",
    "        base_station = houses[i]\n",
    "        while i < len(houses) and houses[i] - base_station <= 6:\n",
    "            i += 1\n",
    "        base_stations.append(base_station)\n",
    "        \n",
    "        while i < len(houses) and houses[i] - base_station <= 6:\n",
    "            i += 1\n",
    "\n",
    "    return base_stations"
   ]
  },
  {
   "attachments": {},
   "cell_type": "markdown",
   "metadata": {},
   "source": [
    "# Q8 Code"
   ]
  },
  {
   "cell_type": "code",
   "execution_count": 54,
   "metadata": {},
   "outputs": [],
   "source": [
    "def localMinimum(tree, node):\n",
    "    if node is None:\n",
    "        return None\n",
    "    if node.left is None and node.right is None:\n",
    "        return node\n",
    "    if node.value < min(node.left.value, node.right.value):\n",
    "        return node\n",
    "    else:\n",
    "        if node.left.value < node.right.value:\n",
    "            return localMinimum(tree, node.left)\n",
    "        else:\n",
    "            return localMinimum(tree, node.right)"
   ]
  },
  {
   "attachments": {},
   "cell_type": "markdown",
   "metadata": {},
   "source": [
    "# Q10 Code\n",
    "Brute force"
   ]
  },
  {
   "cell_type": "code",
   "execution_count": 55,
   "metadata": {},
   "outputs": [],
   "source": [
    "import copy\n",
    "def min_Distance(distances):\n",
    "    result = []\n",
    "    for i in range(1, 4):\n",
    "        visted = set()\n",
    "        visted.add(0)\n",
    "        visted.add(i)\n",
    "        visted1 = copy.copy(visted)\n",
    "        for j in range(1, 4):\n",
    "            if j in visted:\n",
    "                continue\n",
    "            visted = copy.copy(visted1)\n",
    "            visted.add(j)\n",
    "            for m in range(1, 4):\n",
    "                if m in visted:\n",
    "                    continue\n",
    "                distance = distances[0][i] + distances[i][j] + distances[j][m] + distances[m][0]\n",
    "                result.append([[0,i,j,m,0],distance])\n",
    "    return result\n",
    "\n"
   ]
  },
  {
   "cell_type": "code",
   "execution_count": 56,
   "metadata": {},
   "outputs": [
    {
     "name": "stdout",
     "output_type": "stream",
     "text": [
      "[[[0, 1, 2, 3, 0], 62], [[0, 1, 3, 2, 0], 71], [[0, 2, 1, 3, 0], 41], [[0, 2, 3, 1, 0], 38], [[0, 3, 1, 2, 0], 65], [[0, 3, 2, 1, 0], 61]]\n"
     ]
    }
   ],
   "source": [
    "distances = [\n",
    "    [0, 20, 15, 18],\n",
    "    [8, 0, 25, 9],\n",
    "    [12, 5, 0, 5],\n",
    "    [12, 10, 30, 0]\n",
    "]\n",
    "result = min_Distance(distances)\n",
    "print(result)"
   ]
  },
  {
   "attachments": {},
   "cell_type": "markdown",
   "metadata": {},
   "source": [
    "# Q11  \n",
    "## DFS Code  "
   ]
  },
  {
   "cell_type": "code",
   "execution_count": 57,
   "metadata": {},
   "outputs": [],
   "source": [
    "def depthFirstSearch(problem):\n",
    "    \"\"\"\n",
    "    Search the deepest nodes in the search tree first.\n",
    "\n",
    "    Your search algorithm needs to return a list of actions that reaches the\n",
    "    goal. Make sure to implement a graph search algorithm.\n",
    "\n",
    "    To get started, you might want to try some of these simple commands to\n",
    "    understand the search problem that is being passed in:\n",
    "\n",
    "    print \"Start:\", problem.getStartState()\n",
    "    print \"Is the start a goal?\", problem.isGoalState(problem.getStartState())\n",
    "    print \"Start's successors:\", problem.getSuccessors(problem.getStartState())\n",
    "    \"\"\"\n",
    "    \"*** YOUR CODE HERE ***\"\n",
    "    from util import Stack\n",
    "    stack = Stack()\n",
    "    currState = problem.getStartState()\n",
    "    # Base case\n",
    "    if problem.isGoalState(currState):\n",
    "        return []\n",
    "    stack.push(currState)\n",
    "    visited, path = [], []\n",
    "    pathToCurrent = Stack()\n",
    "    while not problem.isGoalState(currState):\n",
    "        currState = stack.pop()\n",
    "        if currState not in visited:\n",
    "            visited.append(currState)\n",
    "            successors = problem.getSuccessors(currState)\n",
    "            for child, direction, cost in successors:\n",
    "                stack.push(child)\n",
    "                tempPath = path + [direction]\n",
    "                pathToCurrent.push(tempPath)\n",
    "        path = pathToCurrent.pop()\n",
    "    return path"
   ]
  },
  {
   "attachments": {},
   "cell_type": "markdown",
   "metadata": {},
   "source": [
    "## A* Code  "
   ]
  },
  {
   "cell_type": "code",
   "execution_count": 58,
   "metadata": {},
   "outputs": [],
   "source": [
    "def aStarSearch(problem, heuristic):\n",
    "    \"\"\"Search the node that has the lowest combined cost and heuristic first.\"\"\"\n",
    "    \"*** YOUR CODE HERE ***\"\n",
    "    from util import PriorityQueue\n",
    "    queue = PriorityQueue()\n",
    "    queue.push(problem.getStartState(), 0)\n",
    "    currState = queue.pop()\n",
    "    visited = []\n",
    "    path = []\n",
    "    pathToCurrent = PriorityQueue()\n",
    "    while not problem.isGoalState(currState):\n",
    "        if currState not in visited:\n",
    "            visited.append(currState)\n",
    "            successors = problem.getSuccessors(currState)\n",
    "            for child, direction, cost in successors:\n",
    "                tempPath = path + [direction]\n",
    "                costToGo = problem.getCostOfActions(tempPath) + heuristic(child, problem)\n",
    "                if child not in visited:\n",
    "                    queue.push(child, costToGo)\n",
    "                    pathToCurrent.push(tempPath, costToGo)\n",
    "        currState = queue.pop()\n",
    "        path = pathToCurrent.pop()\n",
    "    return path"
   ]
  }
 ],
 "metadata": {
  "kernelspec": {
   "display_name": "Python 3",
   "language": "python",
   "name": "python3"
  },
  "language_info": {
   "codemirror_mode": {
    "name": "ipython",
    "version": 3
   },
   "file_extension": ".py",
   "mimetype": "text/x-python",
   "name": "python",
   "nbconvert_exporter": "python",
   "pygments_lexer": "ipython3",
   "version": "3.8.5"
  },
  "orig_nbformat": 4,
  "vscode": {
   "interpreter": {
    "hash": "aee8b7b246df8f9039afb4144a1f6fd8d2ca17a180786b69acc140d282b71a49"
   }
  }
 },
 "nbformat": 4,
 "nbformat_minor": 2
}
